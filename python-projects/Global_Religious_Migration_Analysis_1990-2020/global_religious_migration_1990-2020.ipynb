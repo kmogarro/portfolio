{
 "cells": [
  {
   "cell_type": "code",
   "execution_count": 1,
   "id": "8da3b250-0e07-419f-b2d5-1702deb995fb",
   "metadata": {},
   "outputs": [
    {
     "data": {
      "text/plain": [
       "'\\nThis analysis explores global religious migration patterns from 1990-2020, \\nexamining how migration flows have influenced religious demographics across different \\ngeographical scales.\\n\\nDataset Structure:\\n- 26712 rows\\n- 9 columns\\n- Hierarchical data (Country -> Regional -> Global levels)\\n- Time period: 1990-2020 (5-year intervals)\\n'"
      ]
     },
     "execution_count": 1,
     "metadata": {},
     "output_type": "execute_result"
    }
   ],
   "source": [
    "# Religious Migration Analysis 1990-2020\n",
    "# Author: Kristofer O'Garro\n",
    "# Date: 11/21/2024\n",
    "# Data Source: Pew Research Center (https://www.pewresearch.org/dataset/dataset-religious-composition-of-the-worlds-migrants-1990-2020/)\n",
    "\n",
    "\"\"\"\n",
    "This analysis explores global religious migration patterns from 1990-2020, \n",
    "examining how migration flows have influenced religious demographics across different \n",
    "geographical scales.\n",
    "\n",
    "Dataset Structure:\n",
    "- 26712 rows\n",
    "- 9 columns\n",
    "- Hierarchical data (Country -> Regional -> Global levels)\n",
    "- Time period: 1990-2020 (5-year intervals)\n",
    "\"\"\""
   ]
  },
  {
   "cell_type": "code",
   "execution_count": 2,
   "id": "7b0140b0-33f6-429c-a1f7-963cbb75e3f7",
   "metadata": {
    "tags": []
   },
   "outputs": [],
   "source": [
    "import pandas as pd\n",
    "import numpy as np\n",
    "import matplotlib as plt"
   ]
  },
  {
   "cell_type": "code",
   "execution_count": 3,
   "id": "defe8c0e-1b00-407f-8774-5a0b70a89468",
   "metadata": {},
   "outputs": [
    {
     "data": {
      "text/html": [
       "<div>\n",
       "<style scoped>\n",
       "    .dataframe tbody tr th:only-of-type {\n",
       "        vertical-align: middle;\n",
       "    }\n",
       "\n",
       "    .dataframe tbody tr th {\n",
       "        vertical-align: top;\n",
       "    }\n",
       "\n",
       "    .dataframe thead th {\n",
       "        text-align: right;\n",
       "    }\n",
       "</style>\n",
       "<table border=\"1\" class=\"dataframe\">\n",
       "  <thead>\n",
       "    <tr style=\"text-align: right;\">\n",
       "      <th></th>\n",
       "      <th>Direction</th>\n",
       "      <th>Year</th>\n",
       "      <th>Country</th>\n",
       "      <th>Religion</th>\n",
       "      <th>Count</th>\n",
       "      <th>Percent</th>\n",
       "      <th>Region</th>\n",
       "      <th>level</th>\n",
       "      <th>countrycode</th>\n",
       "    </tr>\n",
       "  </thead>\n",
       "  <tbody>\n",
       "    <tr>\n",
       "      <th>0</th>\n",
       "      <td>Incoming</td>\n",
       "      <td>1990</td>\n",
       "      <td>Global Total</td>\n",
       "      <td>All</td>\n",
       "      <td>152,970,000</td>\n",
       "      <td>100.0</td>\n",
       "      <td>Global</td>\n",
       "      <td>3</td>\n",
       "      <td>9999</td>\n",
       "    </tr>\n",
       "    <tr>\n",
       "      <th>1</th>\n",
       "      <td>Incoming</td>\n",
       "      <td>1990</td>\n",
       "      <td>Global Total</td>\n",
       "      <td>Buddhist</td>\n",
       "      <td>4,590,000</td>\n",
       "      <td>3.0</td>\n",
       "      <td>Global</td>\n",
       "      <td>3</td>\n",
       "      <td>9999</td>\n",
       "    </tr>\n",
       "    <tr>\n",
       "      <th>2</th>\n",
       "      <td>Incoming</td>\n",
       "      <td>1990</td>\n",
       "      <td>Global Total</td>\n",
       "      <td>Christian</td>\n",
       "      <td>72,710,000</td>\n",
       "      <td>47.5</td>\n",
       "      <td>Global</td>\n",
       "      <td>3</td>\n",
       "      <td>9999</td>\n",
       "    </tr>\n",
       "    <tr>\n",
       "      <th>3</th>\n",
       "      <td>Incoming</td>\n",
       "      <td>1990</td>\n",
       "      <td>Global Total</td>\n",
       "      <td>Hindu</td>\n",
       "      <td>9,130,000</td>\n",
       "      <td>6.0</td>\n",
       "      <td>Global</td>\n",
       "      <td>3</td>\n",
       "      <td>9999</td>\n",
       "    </tr>\n",
       "    <tr>\n",
       "      <th>4</th>\n",
       "      <td>Incoming</td>\n",
       "      <td>1990</td>\n",
       "      <td>Global Total</td>\n",
       "      <td>Jew</td>\n",
       "      <td>2,340,000</td>\n",
       "      <td>1.5</td>\n",
       "      <td>Global</td>\n",
       "      <td>3</td>\n",
       "      <td>9999</td>\n",
       "    </tr>\n",
       "    <tr>\n",
       "      <th>...</th>\n",
       "      <td>...</td>\n",
       "      <td>...</td>\n",
       "      <td>...</td>\n",
       "      <td>...</td>\n",
       "      <td>...</td>\n",
       "      <td>...</td>\n",
       "      <td>...</td>\n",
       "      <td>...</td>\n",
       "      <td>...</td>\n",
       "    </tr>\n",
       "    <tr>\n",
       "      <th>26707</th>\n",
       "      <td>Outgoing</td>\n",
       "      <td>2020</td>\n",
       "      <td>Zambia</td>\n",
       "      <td>Hindu</td>\n",
       "      <td>&lt; 10,000</td>\n",
       "      <td>2.1</td>\n",
       "      <td>Sub-Saharan Africa</td>\n",
       "      <td>1</td>\n",
       "      <td>894</td>\n",
       "    </tr>\n",
       "    <tr>\n",
       "      <th>26708</th>\n",
       "      <td>Outgoing</td>\n",
       "      <td>2020</td>\n",
       "      <td>Zambia</td>\n",
       "      <td>Jew</td>\n",
       "      <td>&lt; 10,000</td>\n",
       "      <td>0.1</td>\n",
       "      <td>Sub-Saharan Africa</td>\n",
       "      <td>1</td>\n",
       "      <td>894</td>\n",
       "    </tr>\n",
       "    <tr>\n",
       "      <th>26709</th>\n",
       "      <td>Outgoing</td>\n",
       "      <td>2020</td>\n",
       "      <td>Zambia</td>\n",
       "      <td>Muslim</td>\n",
       "      <td>20,000</td>\n",
       "      <td>10.4</td>\n",
       "      <td>Sub-Saharan Africa</td>\n",
       "      <td>1</td>\n",
       "      <td>894</td>\n",
       "    </tr>\n",
       "    <tr>\n",
       "      <th>26710</th>\n",
       "      <td>Outgoing</td>\n",
       "      <td>2020</td>\n",
       "      <td>Zambia</td>\n",
       "      <td>Other</td>\n",
       "      <td>&lt; 10,000</td>\n",
       "      <td>3.7</td>\n",
       "      <td>Sub-Saharan Africa</td>\n",
       "      <td>1</td>\n",
       "      <td>894</td>\n",
       "    </tr>\n",
       "    <tr>\n",
       "      <th>26711</th>\n",
       "      <td>Outgoing</td>\n",
       "      <td>2020</td>\n",
       "      <td>Zambia</td>\n",
       "      <td>Unaffiliated</td>\n",
       "      <td>10,000</td>\n",
       "      <td>5.4</td>\n",
       "      <td>Sub-Saharan Africa</td>\n",
       "      <td>1</td>\n",
       "      <td>894</td>\n",
       "    </tr>\n",
       "  </tbody>\n",
       "</table>\n",
       "<p>26712 rows × 9 columns</p>\n",
       "</div>"
      ],
      "text/plain": [
       "      Direction  Year       Country      Religion        Count  Percent  \\\n",
       "0      Incoming  1990  Global Total           All  152,970,000    100.0   \n",
       "1      Incoming  1990  Global Total      Buddhist    4,590,000      3.0   \n",
       "2      Incoming  1990  Global Total     Christian   72,710,000     47.5   \n",
       "3      Incoming  1990  Global Total         Hindu    9,130,000      6.0   \n",
       "4      Incoming  1990  Global Total           Jew    2,340,000      1.5   \n",
       "...         ...   ...           ...           ...          ...      ...   \n",
       "26707  Outgoing  2020        Zambia         Hindu     < 10,000      2.1   \n",
       "26708  Outgoing  2020        Zambia           Jew     < 10,000      0.1   \n",
       "26709  Outgoing  2020        Zambia        Muslim       20,000     10.4   \n",
       "26710  Outgoing  2020        Zambia         Other     < 10,000      3.7   \n",
       "26711  Outgoing  2020        Zambia  Unaffiliated       10,000      5.4   \n",
       "\n",
       "                   Region  level  countrycode  \n",
       "0                  Global      3         9999  \n",
       "1                  Global      3         9999  \n",
       "2                  Global      3         9999  \n",
       "3                  Global      3         9999  \n",
       "4                  Global      3         9999  \n",
       "...                   ...    ...          ...  \n",
       "26707  Sub-Saharan Africa      1          894  \n",
       "26708  Sub-Saharan Africa      1          894  \n",
       "26709  Sub-Saharan Africa      1          894  \n",
       "26710  Sub-Saharan Africa      1          894  \n",
       "26711  Sub-Saharan Africa      1          894  \n",
       "\n",
       "[26712 rows x 9 columns]"
      ]
     },
     "execution_count": 3,
     "metadata": {},
     "output_type": "execute_result"
    }
   ],
   "source": [
    "migration = pd.read_csv('data/Incoming_and_Outgoing_Migrant_Counts.csv', thousands=',')\n",
    "migration"
   ]
  },
  {
   "cell_type": "markdown",
   "id": "f9d2978d-63db-48ac-92dd-c3476a681366",
   "metadata": {},
   "source": [
    "## Cleaning the data"
   ]
  },
  {
   "cell_type": "code",
   "execution_count": 5,
   "id": "cef6f200-1075-42b1-8002-0e044777b8b1",
   "metadata": {
    "tags": []
   },
   "outputs": [],
   "source": [
    "# Initial data exploration\n",
    "def explore_data_quality(df):\n",
    "    \"\"\"\n",
    "    Perform initial data quality checks.\n",
    "    \n",
    "    Parameters:\n",
    "    -----------\n",
    "    df : pd.DataFrame\n",
    "        Input dataframe to analyze\n",
    "        \n",
    "    Returns:\n",
    "    --------\n",
    "    dict\n",
    "        Dictionary containing data quality metrics\n",
    "    \"\"\"\n",
    "    quality_report = {\n",
    "        'missing_values': df.isnull().sum(),\n",
    "        'unique_values': {col: df[col].nunique() for col in df.columns},\n",
    "        'data_types': df.dtypes\n",
    "    }\n",
    "    return quality_report"
   ]
  },
  {
   "cell_type": "code",
   "execution_count": 6,
   "id": "c836902e-ed80-4354-86e9-ee8af98a3987",
   "metadata": {
    "tags": []
   },
   "outputs": [
    {
     "data": {
      "text/plain": [
       "{'missing_values': Direction      0\n",
       " Year           0\n",
       " Country        0\n",
       " Religion       0\n",
       " Count          0\n",
       " Percent        0\n",
       " Region         0\n",
       " level          0\n",
       " countrycode    0\n",
       " dtype: int64,\n",
       " 'unique_values': {'Direction': 2,\n",
       "  'Year': 7,\n",
       "  'Country': 239,\n",
       "  'Religion': 8,\n",
       "  'Count': 834,\n",
       "  'Percent': 955,\n",
       "  'Region': 7,\n",
       "  'level': 3,\n",
       "  'countrycode': 239},\n",
       " 'data_types': Direction       object\n",
       " Year             int64\n",
       " Country         object\n",
       " Religion        object\n",
       " Count           object\n",
       " Percent        float64\n",
       " Region          object\n",
       " level            int64\n",
       " countrycode      int64\n",
       " dtype: object}"
      ]
     },
     "execution_count": 6,
     "metadata": {},
     "output_type": "execute_result"
    }
   ],
   "source": [
    "explore_data_quality(migration)"
   ]
  },
  {
   "cell_type": "code",
   "execution_count": 7,
   "id": "318af7c0-6c96-4c62-b028-adf427e814c4",
   "metadata": {
    "tags": []
   },
   "outputs": [
    {
     "name": "stdout",
     "output_type": "stream",
     "text": [
      "<class 'pandas.core.frame.DataFrame'>\n",
      "RangeIndex: 26712 entries, 0 to 26711\n",
      "Data columns (total 9 columns):\n",
      " #   Column       Non-Null Count  Dtype   \n",
      "---  ------       --------------  -----   \n",
      " 0   Direction    26712 non-null  category\n",
      " 1   Year         26712 non-null  int64   \n",
      " 2   Country      26712 non-null  object  \n",
      " 3   Religion     26712 non-null  category\n",
      " 4   Count        26712 non-null  object  \n",
      " 5   Percent      26712 non-null  float64 \n",
      " 6   Region       26712 non-null  category\n",
      " 7   level        26712 non-null  category\n",
      " 8   countrycode  26712 non-null  int64   \n",
      "dtypes: category(4), float64(1), int64(2), object(2)\n",
      "memory usage: 1.1+ MB\n"
     ]
    }
   ],
   "source": [
    "#Changing the following column type to 'category' for memory optimization: Direction, Religion, Region, Level \n",
    "migration = migration.astype({\n",
    "    'Direction': 'category',\n",
    "    'Religion': 'category',\n",
    "    'Region': 'category',\n",
    "    'level': 'category',\n",
    "})\n",
    "\n",
    "migration.info()"
   ]
  },
  {
   "cell_type": "code",
   "execution_count": 8,
   "id": "7a356f2a-0355-46ee-a7f9-14a227f538ec",
   "metadata": {},
   "outputs": [],
   "source": [
    "#Standardized column names to lowercase\n",
    "migration.columns = migration.columns.str.lower()"
   ]
  },
  {
   "cell_type": "code",
   "execution_count": 9,
   "id": "6212dc1e-5b61-4a2a-89f7-59718e7ace74",
   "metadata": {
    "tags": []
   },
   "outputs": [
    {
     "data": {
      "text/plain": [
       "0        152,970,000\n",
       "1          4,590,000\n",
       "2         72,710,000\n",
       "3          9,130,000\n",
       "4          2,340,000\n",
       "            ...     \n",
       "26707       < 10,000\n",
       "26708       < 10,000\n",
       "26709         20,000\n",
       "26710       < 10,000\n",
       "26711         10,000\n",
       "Name: count, Length: 26712, dtype: object"
      ]
     },
     "execution_count": 9,
     "metadata": {},
     "output_type": "execute_result"
    }
   ],
   "source": [
    "migration['count']"
   ]
  },
  {
   "cell_type": "code",
   "execution_count": 10,
   "id": "437ffd71-7c5d-483a-a3cc-b9a0a9ad72aa",
   "metadata": {
    "tags": []
   },
   "outputs": [
    {
     "data": {
      "text/plain": [
       "0        152,970,000\n",
       "1          4,590,000\n",
       "2         72,710,000\n",
       "3          9,130,000\n",
       "4          2,340,000\n",
       "            ...     \n",
       "26707           5000\n",
       "26708           5000\n",
       "26709         20,000\n",
       "26710           5000\n",
       "26711         10,000\n",
       "Name: count, Length: 26712, dtype: object"
      ]
     },
     "execution_count": 10,
     "metadata": {},
     "output_type": "execute_result"
    }
   ],
   "source": [
    "# Replacing values of '< 10,000' with 5,000 for numerical calculations. The number 5000 was chosen as a midpoint since we\n",
    "# don't have the actual numbers\n",
    "migration['count'] = migration['count'].replace('< 10,000', '5000')\n",
    "migration['count']"
   ]
  },
  {
   "cell_type": "code",
   "execution_count": 11,
   "id": "4cd30267-42ee-43f1-876b-e612377a8357",
   "metadata": {
    "tags": []
   },
   "outputs": [
    {
     "data": {
      "text/plain": [
       "direction      category\n",
       "year              int64\n",
       "country          object\n",
       "religion       category\n",
       "count            object\n",
       "percent         float64\n",
       "region         category\n",
       "level          category\n",
       "countrycode       int64\n",
       "dtype: object"
      ]
     },
     "execution_count": 11,
     "metadata": {},
     "output_type": "execute_result"
    }
   ],
   "source": [
    "migration.dtypes"
   ]
  },
  {
   "cell_type": "code",
   "execution_count": 39,
   "id": "b42a842e-bcff-4e8a-ad61-115eaf760ebc",
   "metadata": {
    "tags": []
   },
   "outputs": [],
   "source": [
    "migration['count'] = migration['count'].str.replace(',', '')\n",
    "migration['count'] = pd.to_numeric(migration['count'])"
   ]
  },
  {
   "cell_type": "code",
   "execution_count": 41,
   "id": "42f8198b-7e49-43f2-9c34-2df436719028",
   "metadata": {
    "tags": []
   },
   "outputs": [
    {
     "data": {
      "text/plain": [
       "direction      category\n",
       "year              int64\n",
       "country          object\n",
       "religion       category\n",
       "count             int64\n",
       "percent         float64\n",
       "region         category\n",
       "level          category\n",
       "countrycode       int64\n",
       "dtype: object"
      ]
     },
     "execution_count": 41,
     "metadata": {},
     "output_type": "execute_result"
    }
   ],
   "source": [
    "migration.dtypes"
   ]
  },
  {
   "cell_type": "markdown",
   "id": "4cf91745-ba14-4fae-b97c-5c6686eeef9b",
   "metadata": {},
   "source": [
    "## Global Analysis"
   ]
  },
  {
   "cell_type": "code",
   "execution_count": 43,
   "id": "c665aab0-ea7d-4ffc-8175-ae1b33fb7bac",
   "metadata": {
    "tags": []
   },
   "outputs": [
    {
     "data": {
      "text/html": [
       "<div>\n",
       "<style scoped>\n",
       "    .dataframe tbody tr th:only-of-type {\n",
       "        vertical-align: middle;\n",
       "    }\n",
       "\n",
       "    .dataframe tbody tr th {\n",
       "        vertical-align: top;\n",
       "    }\n",
       "\n",
       "    .dataframe thead th {\n",
       "        text-align: right;\n",
       "    }\n",
       "</style>\n",
       "<table border=\"1\" class=\"dataframe\">\n",
       "  <thead>\n",
       "    <tr style=\"text-align: right;\">\n",
       "      <th></th>\n",
       "      <th>direction</th>\n",
       "      <th>year</th>\n",
       "      <th>country</th>\n",
       "      <th>religion</th>\n",
       "      <th>count</th>\n",
       "      <th>percent</th>\n",
       "      <th>region</th>\n",
       "      <th>level</th>\n",
       "      <th>countrycode</th>\n",
       "    </tr>\n",
       "  </thead>\n",
       "  <tbody>\n",
       "    <tr>\n",
       "      <th>0</th>\n",
       "      <td>Incoming</td>\n",
       "      <td>1990</td>\n",
       "      <td>Global Total</td>\n",
       "      <td>All</td>\n",
       "      <td>152970000</td>\n",
       "      <td>100.0</td>\n",
       "      <td>Global</td>\n",
       "      <td>3</td>\n",
       "      <td>9999</td>\n",
       "    </tr>\n",
       "    <tr>\n",
       "      <th>1</th>\n",
       "      <td>Incoming</td>\n",
       "      <td>1990</td>\n",
       "      <td>Global Total</td>\n",
       "      <td>Buddhist</td>\n",
       "      <td>4590000</td>\n",
       "      <td>3.0</td>\n",
       "      <td>Global</td>\n",
       "      <td>3</td>\n",
       "      <td>9999</td>\n",
       "    </tr>\n",
       "    <tr>\n",
       "      <th>2</th>\n",
       "      <td>Incoming</td>\n",
       "      <td>1990</td>\n",
       "      <td>Global Total</td>\n",
       "      <td>Christian</td>\n",
       "      <td>72710000</td>\n",
       "      <td>47.5</td>\n",
       "      <td>Global</td>\n",
       "      <td>3</td>\n",
       "      <td>9999</td>\n",
       "    </tr>\n",
       "    <tr>\n",
       "      <th>3</th>\n",
       "      <td>Incoming</td>\n",
       "      <td>1990</td>\n",
       "      <td>Global Total</td>\n",
       "      <td>Hindu</td>\n",
       "      <td>9130000</td>\n",
       "      <td>6.0</td>\n",
       "      <td>Global</td>\n",
       "      <td>3</td>\n",
       "      <td>9999</td>\n",
       "    </tr>\n",
       "    <tr>\n",
       "      <th>4</th>\n",
       "      <td>Incoming</td>\n",
       "      <td>1990</td>\n",
       "      <td>Global Total</td>\n",
       "      <td>Jew</td>\n",
       "      <td>2340000</td>\n",
       "      <td>1.5</td>\n",
       "      <td>Global</td>\n",
       "      <td>3</td>\n",
       "      <td>9999</td>\n",
       "    </tr>\n",
       "  </tbody>\n",
       "</table>\n",
       "</div>"
      ],
      "text/plain": [
       "  direction  year       country   religion      count  percent  region level  \\\n",
       "0  Incoming  1990  Global Total        All  152970000    100.0  Global     3   \n",
       "1  Incoming  1990  Global Total   Buddhist    4590000      3.0  Global     3   \n",
       "2  Incoming  1990  Global Total  Christian   72710000     47.5  Global     3   \n",
       "3  Incoming  1990  Global Total      Hindu    9130000      6.0  Global     3   \n",
       "4  Incoming  1990  Global Total        Jew    2340000      1.5  Global     3   \n",
       "\n",
       "   countrycode  \n",
       "0         9999  \n",
       "1         9999  \n",
       "2         9999  \n",
       "3         9999  \n",
       "4         9999  "
      ]
     },
     "execution_count": 43,
     "metadata": {},
     "output_type": "execute_result"
    }
   ],
   "source": [
    "migration.head()"
   ]
  },
  {
   "cell_type": "code",
   "execution_count": 49,
   "id": "f2b9f6cf-c178-4f84-81a8-2606668fb9c2",
   "metadata": {
    "tags": []
   },
   "outputs": [
    {
     "data": {
      "text/plain": [
       "0        152970000\n",
       "1          4590000\n",
       "2         72710000\n",
       "3          9130000\n",
       "4          2340000\n",
       "           ...    \n",
       "24803     13480000\n",
       "24804      2980000\n",
       "24805     80420000\n",
       "24806      5510000\n",
       "24807     36400000\n",
       "Name: count, Length: 112, dtype: int64"
      ]
     },
     "execution_count": 49,
     "metadata": {},
     "output_type": "execute_result"
    }
   ],
   "source": [
    "global_data = migration[migration['level'] == 3]\n",
    "global_data['count']"
   ]
  },
  {
   "cell_type": "code",
   "execution_count": 53,
   "id": "3179e7f2-c410-450d-9337-631d902172db",
   "metadata": {
    "tags": []
   },
   "outputs": [
    {
     "data": {
      "text/plain": [
       "year  religion    \n",
       "1990  All             305940000\n",
       "      Buddhist          9180000\n",
       "      Christian       145420000\n",
       "      Hindu            18260000\n",
       "      Jew               4680000\n",
       "      Muslim           79760000\n",
       "      Other             5060000\n",
       "      Unaffiliated     43580000\n",
       "1995  All             322540000\n",
       "      Buddhist         10500000\n",
       "      Christian       157620000\n",
       "      Hindu            18260000\n",
       "      Jew               4940000\n",
       "      Muslim           78780000\n",
       "      Other             5500000\n",
       "      Unaffiliated     46940000\n",
       "2000  All             346440000\n",
       "      Buddhist         12100000\n",
       "      Christian       169560000\n",
       "      Hindu            18660000\n",
       "      Jew               5100000\n",
       "      Muslim           84260000\n",
       "      Other             5860000\n",
       "      Unaffiliated     50900000\n",
       "2005  All             382860000\n",
       "      Buddhist         14840000\n",
       "      Christian       188120000\n",
       "      Hindu            19820000\n",
       "      Jew               5280000\n",
       "      Muslim           92240000\n",
       "      Other             6860000\n",
       "      Unaffiliated     55700000\n",
       "2010  All             441920000\n",
       "      Buddhist         18180000\n",
       "      Christian       212000000\n",
       "      Hindu            22600000\n",
       "      Jew               5540000\n",
       "      Muslim          114540000\n",
       "      Other             8040000\n",
       "      Unaffiliated     61020000\n",
       "2015  All             495860000\n",
       "      Buddhist         20020000\n",
       "      Christian       230320000\n",
       "      Hindu            25220000\n",
       "      Jew               5740000\n",
       "      Muslim          139460000\n",
       "      Other             9380000\n",
       "      Unaffiliated     65720000\n",
       "2020  All             561139968\n",
       "      Buddhist         21800000\n",
       "      Christian       261760000\n",
       "      Hindu            26960000\n",
       "      Jew               5960000\n",
       "      Muslim          160840000\n",
       "      Other            11020000\n",
       "      Unaffiliated     72800000\n",
       "Name: count, dtype: int64"
      ]
     },
     "execution_count": 53,
     "metadata": {},
     "output_type": "execute_result"
    }
   ],
   "source": [
    "global_religion = global_data.groupby(['year', 'religion'], observed=True)['count'].sum()\n",
    "global_religion"
   ]
  },
  {
   "cell_type": "code",
   "execution_count": 63,
   "id": "9fe47503-c588-48be-81fa-298aa2087e31",
   "metadata": {
    "tags": []
   },
   "outputs": [
    {
     "data": {
      "text/html": [
       "<div>\n",
       "<style scoped>\n",
       "    .dataframe tbody tr th:only-of-type {\n",
       "        vertical-align: middle;\n",
       "    }\n",
       "\n",
       "    .dataframe tbody tr th {\n",
       "        vertical-align: top;\n",
       "    }\n",
       "\n",
       "    .dataframe thead th {\n",
       "        text-align: right;\n",
       "    }\n",
       "</style>\n",
       "<table border=\"1\" class=\"dataframe\">\n",
       "  <thead>\n",
       "    <tr style=\"text-align: right;\">\n",
       "      <th>year</th>\n",
       "      <th>1990</th>\n",
       "      <th>1995</th>\n",
       "      <th>2000</th>\n",
       "      <th>2005</th>\n",
       "      <th>2010</th>\n",
       "      <th>2015</th>\n",
       "      <th>2020</th>\n",
       "    </tr>\n",
       "    <tr>\n",
       "      <th>religion</th>\n",
       "      <th></th>\n",
       "      <th></th>\n",
       "      <th></th>\n",
       "      <th></th>\n",
       "      <th></th>\n",
       "      <th></th>\n",
       "      <th></th>\n",
       "    </tr>\n",
       "  </thead>\n",
       "  <tbody>\n",
       "    <tr>\n",
       "      <th>All</th>\n",
       "      <td>305940000</td>\n",
       "      <td>322540000</td>\n",
       "      <td>346440000</td>\n",
       "      <td>382860000</td>\n",
       "      <td>441920000</td>\n",
       "      <td>495860000</td>\n",
       "      <td>561139968</td>\n",
       "    </tr>\n",
       "    <tr>\n",
       "      <th>Buddhist</th>\n",
       "      <td>9180000</td>\n",
       "      <td>10500000</td>\n",
       "      <td>12100000</td>\n",
       "      <td>14840000</td>\n",
       "      <td>18180000</td>\n",
       "      <td>20020000</td>\n",
       "      <td>21800000</td>\n",
       "    </tr>\n",
       "    <tr>\n",
       "      <th>Christian</th>\n",
       "      <td>145420000</td>\n",
       "      <td>157620000</td>\n",
       "      <td>169560000</td>\n",
       "      <td>188120000</td>\n",
       "      <td>212000000</td>\n",
       "      <td>230320000</td>\n",
       "      <td>261760000</td>\n",
       "    </tr>\n",
       "    <tr>\n",
       "      <th>Hindu</th>\n",
       "      <td>18260000</td>\n",
       "      <td>18260000</td>\n",
       "      <td>18660000</td>\n",
       "      <td>19820000</td>\n",
       "      <td>22600000</td>\n",
       "      <td>25220000</td>\n",
       "      <td>26960000</td>\n",
       "    </tr>\n",
       "    <tr>\n",
       "      <th>Jew</th>\n",
       "      <td>4680000</td>\n",
       "      <td>4940000</td>\n",
       "      <td>5100000</td>\n",
       "      <td>5280000</td>\n",
       "      <td>5540000</td>\n",
       "      <td>5740000</td>\n",
       "      <td>5960000</td>\n",
       "    </tr>\n",
       "    <tr>\n",
       "      <th>Muslim</th>\n",
       "      <td>79760000</td>\n",
       "      <td>78780000</td>\n",
       "      <td>84260000</td>\n",
       "      <td>92240000</td>\n",
       "      <td>114540000</td>\n",
       "      <td>139460000</td>\n",
       "      <td>160840000</td>\n",
       "    </tr>\n",
       "    <tr>\n",
       "      <th>Other</th>\n",
       "      <td>5060000</td>\n",
       "      <td>5500000</td>\n",
       "      <td>5860000</td>\n",
       "      <td>6860000</td>\n",
       "      <td>8040000</td>\n",
       "      <td>9380000</td>\n",
       "      <td>11020000</td>\n",
       "    </tr>\n",
       "    <tr>\n",
       "      <th>Unaffiliated</th>\n",
       "      <td>43580000</td>\n",
       "      <td>46940000</td>\n",
       "      <td>50900000</td>\n",
       "      <td>55700000</td>\n",
       "      <td>61020000</td>\n",
       "      <td>65720000</td>\n",
       "      <td>72800000</td>\n",
       "    </tr>\n",
       "  </tbody>\n",
       "</table>\n",
       "</div>"
      ],
      "text/plain": [
       "year               1990       1995       2000       2005       2010  \\\n",
       "religion                                                              \n",
       "All           305940000  322540000  346440000  382860000  441920000   \n",
       "Buddhist        9180000   10500000   12100000   14840000   18180000   \n",
       "Christian     145420000  157620000  169560000  188120000  212000000   \n",
       "Hindu          18260000   18260000   18660000   19820000   22600000   \n",
       "Jew             4680000    4940000    5100000    5280000    5540000   \n",
       "Muslim         79760000   78780000   84260000   92240000  114540000   \n",
       "Other           5060000    5500000    5860000    6860000    8040000   \n",
       "Unaffiliated   43580000   46940000   50900000   55700000   61020000   \n",
       "\n",
       "year               2015       2020  \n",
       "religion                            \n",
       "All           495860000  561139968  \n",
       "Buddhist       20020000   21800000  \n",
       "Christian     230320000  261760000  \n",
       "Hindu          25220000   26960000  \n",
       "Jew             5740000    5960000  \n",
       "Muslim        139460000  160840000  \n",
       "Other           9380000   11020000  \n",
       "Unaffiliated   65720000   72800000  "
      ]
     },
     "execution_count": 63,
     "metadata": {},
     "output_type": "execute_result"
    }
   ],
   "source": [
    "pivoted_data = global_religion.reset_index().pivot(index='religion', columns='year', values='count')\n",
    "pivoted_data"
   ]
  },
  {
   "cell_type": "code",
   "execution_count": null,
   "id": "3756899e-3d70-4e88-b030-4c3ea009e7bc",
   "metadata": {},
   "outputs": [],
   "source": []
  }
 ],
 "metadata": {
  "kernelspec": {
   "display_name": "Python 3 (ipykernel)",
   "language": "python",
   "name": "python3"
  },
  "language_info": {
   "codemirror_mode": {
    "name": "ipython",
    "version": 3
   },
   "file_extension": ".py",
   "mimetype": "text/x-python",
   "name": "python",
   "nbconvert_exporter": "python",
   "pygments_lexer": "ipython3",
   "version": "3.11.7"
  }
 },
 "nbformat": 4,
 "nbformat_minor": 5
}
