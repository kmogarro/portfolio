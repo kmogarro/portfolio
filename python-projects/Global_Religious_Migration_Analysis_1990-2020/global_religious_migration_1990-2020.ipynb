{
 "cells": [
  {
   "cell_type": "code",
   "execution_count": null,
   "id": "8da3b250-0e07-419f-b2d5-1702deb995fb",
   "metadata": {},
   "outputs": [],
   "source": [
    "# Religious Migration Analysis 1990-2020\n",
    "# Author: Kristofer O'Garro\n",
    "# Date: 11/21/2024\n",
    "# Data Source: Pew Research Center (https://www.pewresearch.org/dataset/dataset-religious-composition-of-the-worlds-migrants-1990-2020/)\n",
    "\n",
    "\"\"\"\n",
    "This analysis explores global religious migration patterns from 1990-2020, \n",
    "examining how migration flows have influenced religious demographics across different \n",
    "geographical scales.\n",
    "\n",
    "Dataset Structure:\n",
    "- 26712 rows\n",
    "- 9 columns\n",
    "- Hierarchical data (Country -> Regional -> Global levels)\n",
    "- Time period: 1990-2020 (5-year intervals)\n",
    "\"\"\""
   ]
  },
  {
   "cell_type": "code",
   "execution_count": 1,
   "id": "7b0140b0-33f6-429c-a1f7-963cbb75e3f7",
   "metadata": {
    "tags": []
   },
   "outputs": [],
   "source": [
    "import pandas as pd\n",
    "import numpy as np\n",
    "import matplotlib as plt"
   ]
  },
  {
   "cell_type": "code",
   "execution_count": 3,
   "id": "defe8c0e-1b00-407f-8774-5a0b70a89468",
   "metadata": {},
   "outputs": [
    {
     "data": {
      "text/html": [
       "<div>\n",
       "<style scoped>\n",
       "    .dataframe tbody tr th:only-of-type {\n",
       "        vertical-align: middle;\n",
       "    }\n",
       "\n",
       "    .dataframe tbody tr th {\n",
       "        vertical-align: top;\n",
       "    }\n",
       "\n",
       "    .dataframe thead th {\n",
       "        text-align: right;\n",
       "    }\n",
       "</style>\n",
       "<table border=\"1\" class=\"dataframe\">\n",
       "  <thead>\n",
       "    <tr style=\"text-align: right;\">\n",
       "      <th></th>\n",
       "      <th>Direction</th>\n",
       "      <th>Year</th>\n",
       "      <th>Country</th>\n",
       "      <th>Religion</th>\n",
       "      <th>Count</th>\n",
       "      <th>Percent</th>\n",
       "      <th>Region</th>\n",
       "      <th>level</th>\n",
       "      <th>countrycode</th>\n",
       "    </tr>\n",
       "  </thead>\n",
       "  <tbody>\n",
       "    <tr>\n",
       "      <th>0</th>\n",
       "      <td>Incoming</td>\n",
       "      <td>1990</td>\n",
       "      <td>Global Total</td>\n",
       "      <td>All</td>\n",
       "      <td>152,970,000</td>\n",
       "      <td>100.0</td>\n",
       "      <td>Global</td>\n",
       "      <td>3</td>\n",
       "      <td>9999</td>\n",
       "    </tr>\n",
       "    <tr>\n",
       "      <th>1</th>\n",
       "      <td>Incoming</td>\n",
       "      <td>1990</td>\n",
       "      <td>Global Total</td>\n",
       "      <td>Buddhist</td>\n",
       "      <td>4,590,000</td>\n",
       "      <td>3.0</td>\n",
       "      <td>Global</td>\n",
       "      <td>3</td>\n",
       "      <td>9999</td>\n",
       "    </tr>\n",
       "    <tr>\n",
       "      <th>2</th>\n",
       "      <td>Incoming</td>\n",
       "      <td>1990</td>\n",
       "      <td>Global Total</td>\n",
       "      <td>Christian</td>\n",
       "      <td>72,710,000</td>\n",
       "      <td>47.5</td>\n",
       "      <td>Global</td>\n",
       "      <td>3</td>\n",
       "      <td>9999</td>\n",
       "    </tr>\n",
       "    <tr>\n",
       "      <th>3</th>\n",
       "      <td>Incoming</td>\n",
       "      <td>1990</td>\n",
       "      <td>Global Total</td>\n",
       "      <td>Hindu</td>\n",
       "      <td>9,130,000</td>\n",
       "      <td>6.0</td>\n",
       "      <td>Global</td>\n",
       "      <td>3</td>\n",
       "      <td>9999</td>\n",
       "    </tr>\n",
       "    <tr>\n",
       "      <th>4</th>\n",
       "      <td>Incoming</td>\n",
       "      <td>1990</td>\n",
       "      <td>Global Total</td>\n",
       "      <td>Jew</td>\n",
       "      <td>2,340,000</td>\n",
       "      <td>1.5</td>\n",
       "      <td>Global</td>\n",
       "      <td>3</td>\n",
       "      <td>9999</td>\n",
       "    </tr>\n",
       "  </tbody>\n",
       "</table>\n",
       "</div>"
      ],
      "text/plain": [
       "  Direction  Year       Country   Religion        Count  Percent  Region  \\\n",
       "0  Incoming  1990  Global Total        All  152,970,000    100.0  Global   \n",
       "1  Incoming  1990  Global Total   Buddhist    4,590,000      3.0  Global   \n",
       "2  Incoming  1990  Global Total  Christian   72,710,000     47.5  Global   \n",
       "3  Incoming  1990  Global Total      Hindu    9,130,000      6.0  Global   \n",
       "4  Incoming  1990  Global Total        Jew    2,340,000      1.5  Global   \n",
       "\n",
       "   level  countrycode  \n",
       "0      3         9999  \n",
       "1      3         9999  \n",
       "2      3         9999  \n",
       "3      3         9999  \n",
       "4      3         9999  "
      ]
     },
     "execution_count": 3,
     "metadata": {},
     "output_type": "execute_result"
    }
   ],
   "source": [
    "migration = pd.read_csv('data/Incoming_and_Outgoing_Migrant_Counts.csv')\n",
    "migration.head()"
   ]
  },
  {
   "cell_type": "code",
   "execution_count": 5,
   "id": "cef6f200-1075-42b1-8002-0e044777b8b1",
   "metadata": {
    "tags": []
   },
   "outputs": [],
   "source": [
    "# Initial data exploration\n",
    "def explore_data_quality(df):\n",
    "    \"\"\"\n",
    "    Perform initial data quality checks.\n",
    "    \n",
    "    Parameters:\n",
    "    -----------\n",
    "    df : pd.DataFrame\n",
    "        Input dataframe to analyze\n",
    "        \n",
    "    Returns:\n",
    "    --------\n",
    "    dict\n",
    "        Dictionary containing data quality metrics\n",
    "    \"\"\"\n",
    "    quality_report = {\n",
    "        'missing_values': df.isnull().sum(),\n",
    "        'unique_values': {col: df[col].nunique() for col in df.columns},\n",
    "        'data_types': df.dtypes\n",
    "    }\n",
    "    return quality_report"
   ]
  },
  {
   "cell_type": "code",
   "execution_count": 7,
   "id": "c836902e-ed80-4354-86e9-ee8af98a3987",
   "metadata": {
    "tags": []
   },
   "outputs": [
    {
     "data": {
      "text/plain": [
       "{'missing_values': Direction      0\n",
       " Year           0\n",
       " Country        0\n",
       " Religion       0\n",
       " Count          0\n",
       " Percent        0\n",
       " Region         0\n",
       " level          0\n",
       " countrycode    0\n",
       " dtype: int64,\n",
       " 'unique_values': {'Direction': 2,\n",
       "  'Year': 7,\n",
       "  'Country': 239,\n",
       "  'Religion': 8,\n",
       "  'Count': 834,\n",
       "  'Percent': 955,\n",
       "  'Region': 7,\n",
       "  'level': 3,\n",
       "  'countrycode': 239},\n",
       " 'data_types': Direction       object\n",
       " Year             int64\n",
       " Country         object\n",
       " Religion        object\n",
       " Count           object\n",
       " Percent        float64\n",
       " Region          object\n",
       " level            int64\n",
       " countrycode      int64\n",
       " dtype: object}"
      ]
     },
     "execution_count": 7,
     "metadata": {},
     "output_type": "execute_result"
    }
   ],
   "source": [
    "explore_data_quality(migration)"
   ]
  },
  {
   "cell_type": "code",
   "execution_count": 9,
   "id": "318af7c0-6c96-4c62-b028-adf427e814c4",
   "metadata": {
    "tags": []
   },
   "outputs": [
    {
     "name": "stdout",
     "output_type": "stream",
     "text": [
      "<class 'pandas.core.frame.DataFrame'>\n",
      "RangeIndex: 26712 entries, 0 to 26711\n",
      "Data columns (total 9 columns):\n",
      " #   Column       Non-Null Count  Dtype   \n",
      "---  ------       --------------  -----   \n",
      " 0   Direction    26712 non-null  category\n",
      " 1   Year         26712 non-null  int64   \n",
      " 2   Country      26712 non-null  object  \n",
      " 3   Religion     26712 non-null  category\n",
      " 4   Count        26712 non-null  object  \n",
      " 5   Percent      26712 non-null  float64 \n",
      " 6   Region       26712 non-null  category\n",
      " 7   level        26712 non-null  category\n",
      " 8   countrycode  26712 non-null  int64   \n",
      "dtypes: category(4), float64(1), int64(2), object(2)\n",
      "memory usage: 1.1+ MB\n"
     ]
    }
   ],
   "source": [
    "#Changing the following column type to 'category' for memory optimization: Direction, Religion, Region, Level \n",
    "migration = migration.astype({\n",
    "    'Direction': 'category',\n",
    "    'Religion': 'category',\n",
    "    'Region': 'category',\n",
    "    'level': 'category',\n",
    "})\n",
    "\n",
    "migration.info()"
   ]
  },
  {
   "cell_type": "code",
   "execution_count": 11,
   "id": "7a356f2a-0355-46ee-a7f9-14a227f538ec",
   "metadata": {},
   "outputs": [],
   "source": [
    "#Standardized column names to lowercase\n",
    "migration.columns = migration.columns.str.lower()"
   ]
  },
  {
   "cell_type": "code",
   "execution_count": null,
   "id": "d92da4a7-237d-4e5f-a8d9-a9bb521ff4e9",
   "metadata": {},
   "outputs": [],
   "source": [
    "#Adding this as a test. Will remove shortly"
   ]
  }
 ],
 "metadata": {
  "kernelspec": {
   "display_name": "Python 3 (ipykernel)",
   "language": "python",
   "name": "python3"
  },
  "language_info": {
   "codemirror_mode": {
    "name": "ipython",
    "version": 3
   },
   "file_extension": ".py",
   "mimetype": "text/x-python",
   "name": "python",
   "nbconvert_exporter": "python",
   "pygments_lexer": "ipython3",
   "version": "3.11.7"
  }
 },
 "nbformat": 4,
 "nbformat_minor": 5
}
